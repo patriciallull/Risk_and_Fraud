{
 "cells": [
  {
   "cell_type": "markdown",
   "metadata": {},
   "source": [
    "## Models for fraud detection"
   ]
  },
  {
   "cell_type": "code",
   "execution_count": 1,
   "metadata": {},
   "outputs": [
    {
     "name": "stderr",
     "output_type": "stream",
     "text": [
      "C:\\Users\\Patricia Llull\\anaconda3\\lib\\site-packages\\statsmodels\\tools\\_testing.py:19: FutureWarning: pandas.util.testing is deprecated. Use the functions in the public API at pandas.testing instead.\n",
      "  import pandas.util.testing as tm\n"
     ]
    }
   ],
   "source": [
    "import numpy as np\n",
    "import pandas as pd\n",
    "import seaborn as sns\n",
    "import matplotlib.pyplot as plt\n",
    "%matplotlib inline"
   ]
  },
  {
   "cell_type": "code",
   "execution_count": 2,
   "metadata": {},
   "outputs": [
    {
     "name": "stdout",
     "output_type": "stream",
     "text": [
      "LOADING DATASETS...\n"
     ]
    }
   ],
   "source": [
    "print (\"LOADING DATASETS...\")\n",
    "df = pd.read_csv(\"dev.csv\") \n",
    "dfo = pd.read_csv(\"oot0.csv\")"
   ]
  },
  {
   "cell_type": "code",
   "execution_count": 3,
   "metadata": {},
   "outputs": [],
   "source": [
    "ibs = [var for var in df.columns if 'ib' in var]\n",
    "icos =[feature for feature in df.columns if 'ico' in feature]\n",
    "icns = [feature for feature in df.columns if 'icn' in feature]\n",
    "ifss =[feature for feature in df.columns if 'if' in feature]\n",
    "#dfo[ibs].isna().sum()\n",
    "#dfo[icns].isna().sum() \n",
    "#dfo[ifss].isna().sum()\n",
    "#dfo[icos].isna().sum() "
   ]
  },
  {
   "cell_type": "code",
   "execution_count": 4,
   "metadata": {},
   "outputs": [
    {
     "name": "stdout",
     "output_type": "stream",
     "text": [
      "DOING MY TRANSFORMATIONS...\n"
     ]
    }
   ],
   "source": [
    "print (\"DOING MY TRANSFORMATIONS...\")\n",
    "\n",
    "dfo[icns] = dfo[icns].fillna(1) \n",
    "dfo[ifss] = dfo[ifss].fillna(dfo.median())\n",
    "dfo[ibs]  = dfo[ibs].fillna(dfo[ibs].median()).astype('int')\n",
    "dfo[icos] = dfo[icos].fillna(dfo[icos].median())"
   ]
  },
  {
   "cell_type": "code",
   "execution_count": 124,
   "metadata": {
    "scrolled": true
   },
   "outputs": [
    {
     "name": "stdout",
     "output_type": "stream",
     "text": [
      "STEP 1: NORMALISING AND DUMMIFYING VARIABLES...\n"
     ]
    }
   ],
   "source": [
    "print(\"STEP 1: NORMALISING AND DUMMIFYING VARIABLES...\")\n",
    "#min max scaler\n",
    "from sklearn.preprocessing import MinMaxScaler\n",
    "scaler =  MinMaxScaler()\n",
    "scaler.fit(df[icos])\n",
    "\n",
    "df[icos] = scaler.transform(df[icos])\n",
    "#df[icos]\n",
    "\n",
    "scaler2= MinMaxScaler()\n",
    "scaler2.fit(df[ifss])\n",
    "\n",
    "df[ifss] = scaler2.transform(df[ifss])\n",
    "#df[ifss]\n",
    "\n",
    "#apply transformations to oot\n",
    "\n",
    "dfo[icos] = scaler.transform(dfo[icos])\n",
    "#dfo[icos]\n",
    "dfo[ifss] = scaler2.transform(dfo[ifss])\n",
    "#dfo[ifss]"
   ]
  },
  {
   "cell_type": "code",
   "execution_count": 125,
   "metadata": {},
   "outputs": [],
   "source": [
    "# dummies\n",
    "for varname in icns:\n",
    "    df_temp = pd.get_dummies(df[varname])\n",
    "    new_dummy_names = []\n",
    "    for colname in df_temp.columns:\n",
    "        new_dummy_names.append(str(varname)+'_'+str(colname))\n",
    "    df_temp.columns = new_dummy_names\n",
    "    df = pd.concat([df,df_temp], axis=1)\n",
    "    \n",
    "dfo[icns] = dfo[icns].astype('int')"
   ]
  },
  {
   "cell_type": "code",
   "execution_count": 126,
   "metadata": {},
   "outputs": [],
   "source": [
    "for varname in icns:\n",
    "    df_temp = pd.get_dummies(dfo[varname])\n",
    "    new_dummy_names = []\n",
    "    for colname in df_temp.columns:\n",
    "        new_dummy_names.append(str(varname)+'_'+str(colname))\n",
    "    df_temp.columns = new_dummy_names\n",
    "    dfo = pd.concat([dfo,df_temp], axis=1)"
   ]
  },
  {
   "cell_type": "code",
   "execution_count": 127,
   "metadata": {},
   "outputs": [
    {
     "name": "stdout",
     "output_type": "stream",
     "text": [
      "STEP 2: SELECTING CHARACTERISTICS TO ENTER INTO THE MODEL...\n"
     ]
    }
   ],
   "source": [
    "print (\"STEP 2: SELECTING CHARACTERISTICS TO ENTER INTO THE MODEL...\")\n",
    "# here we are also selecting the dummies we created so there are more variables than initially\n",
    "features_model = [feature for feature in df.columns if 'ib_var_12' not in feature and 'id' not in feature and 'target' not in feature]\n",
    "\n",
    "in_model = features_model\n",
    "output_var = 'ob_target'"
   ]
  },
  {
   "cell_type": "code",
   "execution_count": 128,
   "metadata": {},
   "outputs": [
    {
     "data": {
      "text/plain": [
       "KMeans(algorithm='auto', copy_x=True, init='k-means++', max_iter=300,\n",
       "       n_clusters=15, n_init=10, n_jobs=None, precompute_distances='auto',\n",
       "       random_state=0, tol=0.0001, verbose=0)"
      ]
     },
     "execution_count": 128,
     "metadata": {},
     "output_type": "execute_result"
    }
   ],
   "source": [
    "from sklearn.cluster import KMeans\n",
    "#do a kmeans without id and ib_12 and target,\n",
    "#add the result as a new column\n",
    "# do for both teh dev and oot datasets\n",
    "\n",
    "\n",
    "X= df[features_model]\n",
    "y = df['ob_target']\n",
    "Xo = dfo[features_model]\n",
    "\n",
    "KM = KMeans(random_state=0, n_clusters= 15) \n",
    "KM.fit(X)"
   ]
  },
  {
   "cell_type": "code",
   "execution_count": 129,
   "metadata": {},
   "outputs": [],
   "source": [
    "labels_df= pd.DataFrame(KM.labels_)\n",
    "labels_df.columns= ['group']\n",
    "df = pd.concat([df,labels_df],axis=1)"
   ]
  },
  {
   "cell_type": "code",
   "execution_count": 130,
   "metadata": {},
   "outputs": [],
   "source": [
    "labels_dfo= pd.DataFrame(KM.predict(Xo))"
   ]
  },
  {
   "cell_type": "code",
   "execution_count": 131,
   "metadata": {},
   "outputs": [],
   "source": [
    "labels_dfo.columns = ['group']\n",
    "dfo = pd.concat([dfo,labels_dfo], axis=1)"
   ]
  },
  {
   "cell_type": "code",
   "execution_count": 132,
   "metadata": {},
   "outputs": [],
   "source": [
    "features_model = [feature for feature in df.columns if 'ib_var_12' not in feature and 'id' not in feature and 'target' not in feature]"
   ]
  },
  {
   "cell_type": "code",
   "execution_count": 133,
   "metadata": {},
   "outputs": [
    {
     "name": "stdout",
     "output_type": "stream",
     "text": [
      "STEP 3: DEVELOPING THE MODEL...\n"
     ]
    },
    {
     "data": {
      "text/plain": [
       "2"
      ]
     },
     "execution_count": 133,
     "metadata": {},
     "output_type": "execute_result"
    }
   ],
   "source": [
    "print (\"STEP 3: DEVELOPING THE MODEL...\")\n",
    "from sklearn.ensemble import RandomForestClassifier\n",
    "X= df[features_model]\n",
    "y = df['ob_target']\n",
    "Xo = dfo[features_model]\n",
    "\n",
    "clf = RandomForestClassifier(max_depth = 40, max_features = 'auto', n_estimators = 990, criterion = 'gini', class_weight='balanced', random_state = 0)\n",
    "fitted_model = clf.fit(X, y)\n",
    "pred_dev = fitted_model.predict_proba(X)[:,1]\n",
    "pred_oot = fitted_model.predict_proba(Xo)[:,1]\n",
    "\n",
    "clf.n_classes_"
   ]
  },
  {
   "cell_type": "markdown",
   "metadata": {},
   "source": [
    "## Feature Selection \n",
    "### Feature importance\n",
    "\n",
    "Selected features seem to have each a small importance, there are no features that really stand out. We will try features selection."
   ]
  },
  {
   "cell_type": "code",
   "execution_count": 134,
   "metadata": {},
   "outputs": [
    {
     "name": "stdout",
     "output_type": "stream",
     "text": [
      "Features sorted by their score:\n"
     ]
    },
    {
     "data": {
      "text/plain": [
       "[(0.052, 'if_var_79'),\n",
       " (0.048, 'if_var_68'),\n",
       " (0.044, 'if_var_65'),\n",
       " (0.04, 'if_var_78'),\n",
       " (0.038, 'if_var_69'),\n",
       " (0.032, 'if_var_67'),\n",
       " (0.03, 'ico_var_36'),\n",
       " (0.025, 'ico_var_34'),\n",
       " (0.024, 'if_var_77'),\n",
       " (0.023, 'if_var_76'),\n",
       " (0.022, 'if_var_75'),\n",
       " (0.022, 'if_var_71'),\n",
       " (0.021, 'if_var_80'),\n",
       " (0.021, 'if_var_73'),\n",
       " (0.021, 'ico_var_35'),\n",
       " (0.021, 'ico_var_33'),\n",
       " (0.021, 'group'),\n",
       " (0.02, 'if_var_72'),\n",
       " (0.016, 'if_var_81'),\n",
       " (0.012, 'ico_var_53'),\n",
       " (0.012, 'ico_var_41'),\n",
       " (0.011, 'if_var_74'),\n",
       " (0.011, 'ico_var_55'),\n",
       " (0.011, 'ico_var_52'),\n",
       " (0.011, 'ico_var_47'),\n",
       " (0.011, 'ico_var_45'),\n",
       " (0.011, 'ico_var_37'),\n",
       " (0.011, 'ico_var_31'),\n",
       " (0.01, 'ico_var_63'),\n",
       " (0.01, 'ico_var_62'),\n",
       " (0.01, 'ico_var_61'),\n",
       " (0.01, 'ico_var_59'),\n",
       " (0.01, 'ico_var_51'),\n",
       " (0.01, 'ico_var_48'),\n",
       " (0.01, 'ico_var_42'),\n",
       " (0.01, 'ico_var_40'),\n",
       " (0.01, 'ico_var_39'),\n",
       " (0.01, 'ico_var_29'),\n",
       " (0.01, 'ico_var_27'),\n",
       " (0.009, 'if_var_70'),\n",
       " (0.009, 'ico_var_58'),\n",
       " (0.009, 'ico_var_56'),\n",
       " (0.009, 'ico_var_54'),\n",
       " (0.008, 'ico_var_60'),\n",
       " (0.008, 'ico_var_57'),\n",
       " (0.008, 'ico_var_38'),\n",
       " (0.008, 'ico_var_32'),\n",
       " (0.008, 'icn_var_24'),\n",
       " (0.007, 'ico_var_64'),\n",
       " (0.007, 'ico_var_49'),\n",
       " (0.007, 'ico_var_44'),\n",
       " (0.007, 'ico_var_30'),\n",
       " (0.007, 'ico_var_28'),\n",
       " (0.007, 'ico_var_26'),\n",
       " (0.007, 'icn_var_22'),\n",
       " (0.007, 'ib_var_5'),\n",
       " (0.006, 'ico_var_46'),\n",
       " (0.006, 'ico_var_43'),\n",
       " (0.006, 'ico_var_25'),\n",
       " (0.006, 'icn_var_24_1'),\n",
       " (0.006, 'ib_var_1'),\n",
       " (0.005, 'ico_var_50'),\n",
       " (0.005, 'ib_var_6'),\n",
       " (0.005, 'ib_var_4'),\n",
       " (0.005, 'ib_var_20'),\n",
       " (0.005, 'ib_var_2'),\n",
       " (0.005, 'ib_var_18'),\n",
       " (0.005, 'ib_var_14'),\n",
       " (0.004, 'icn_var_24_3'),\n",
       " (0.004, 'icn_var_24_2'),\n",
       " (0.004, 'ib_var_21'),\n",
       " (0.004, 'ib_var_13'),\n",
       " (0.003, 'icn_var_23_1'),\n",
       " (0.003, 'icn_var_23'),\n",
       " (0.003, 'icn_var_22_3'),\n",
       " (0.003, 'icn_var_22_2'),\n",
       " (0.003, 'ib_var_16'),\n",
       " (0.002, 'icn_var_23_5'),\n",
       " (0.002, 'icn_var_22_4'),\n",
       " (0.002, 'icn_var_22_1'),\n",
       " (0.002, 'ib_var_8'),\n",
       " (0.002, 'ib_var_19'),\n",
       " (0.002, 'ib_var_17'),\n",
       " (0.002, 'ib_var_15'),\n",
       " (0.001, 'icn_var_23_3'),\n",
       " (0.001, 'icn_var_23_2'),\n",
       " (0.001, 'ib_var_7'),\n",
       " (0.001, 'ib_var_3'),\n",
       " (0.001, 'ib_var_11'),\n",
       " (0.0, 'if_var_66'),\n",
       " (0.0, 'ib_var_9'),\n",
       " (0.0, 'ib_var_10')]"
      ]
     },
     "execution_count": 134,
     "metadata": {},
     "output_type": "execute_result"
    }
   ],
   "source": [
    "array_scores = sorted(zip(map(lambda x: round(x, 3), clf.feature_importances_), features_model), reverse=True)\n",
    "print(\"Features sorted by their score:\")\n",
    "array_scores"
   ]
  },
  {
   "cell_type": "code",
   "execution_count": 135,
   "metadata": {},
   "outputs": [
    {
     "data": {
      "text/plain": [
       "56"
      ]
     },
     "execution_count": 135,
     "metadata": {},
     "output_type": "execute_result"
    }
   ],
   "source": [
    "scores_df = pd.DataFrame(array_scores)\n",
    "good_scores = scores_df[scores_df[0]>0.006]\n",
    "new_features=[feature for feature in good_scores[1]]\n",
    "len(new_features)"
   ]
  },
  {
   "cell_type": "code",
   "execution_count": 136,
   "metadata": {},
   "outputs": [
    {
     "data": {
      "text/plain": [
       "2"
      ]
     },
     "execution_count": 136,
     "metadata": {},
     "output_type": "execute_result"
    }
   ],
   "source": [
    "from sklearn.ensemble import RandomForestClassifier\n",
    "X= df[new_features]\n",
    "y = df['ob_target']\n",
    "Xo = dfo[new_features]\n",
    "\n",
    "clf = RandomForestClassifier(max_depth = 20, max_features = 'auto', n_estimators = 900, criterion = 'gini', class_weight='balanced', random_state = 0)\n",
    "fitted_model = clf.fit(X, y)\n",
    "pred_dev = fitted_model.predict_proba(X)[:,1]\n",
    "pred_oot = fitted_model.predict_proba(Xo)[:,1]\n",
    "\n",
    "clf.n_classes_ "
   ]
  },
  {
   "cell_type": "code",
   "execution_count": 137,
   "metadata": {},
   "outputs": [
    {
     "name": "stdout",
     "output_type": "stream",
     "text": [
      "STEP 4: ASSESSING THE MODEL...\n",
      "GINI DEVELOPMENT= 1.0\n",
      "KS DEVELOPMENT= 0.9999999999999976\n"
     ]
    }
   ],
   "source": [
    "print (\"STEP 4: ASSESSING THE MODEL...\")\n",
    "# CALCULATING GINI PERFORMANCE ON DEVELOPMENT SAMPLE\n",
    "from sklearn.metrics import roc_auc_score\n",
    "gini_score = 2*roc_auc_score(y, pred_dev)-1\n",
    "print (\"GINI DEVELOPMENT=\", gini_score)\n",
    "\n",
    "def KS(b,a):  \n",
    "    \"\"\"Function that received two parameters; first: a binary variable representing 0=good and 1=bad, \n",
    "    and then a second variable with the prediction of the first variable, the second variable can be continuous, \n",
    "    integer or binary - continuous is better. Finally, the function returns the KS Statistics of the two lists.\"\"\"\n",
    "    try:\n",
    "        tot_bads=1.0*sum(b)\n",
    "        tot_goods=1.0*(len(b)-tot_bads)\n",
    "        elements = zip(*[a,b])\n",
    "        elements = sorted(elements,key= lambda x: x[0])\n",
    "        elements_df = pd.DataFrame({'probability': b,'gbi': a})\n",
    "        pivot_elements_df = pd.pivot_table(elements_df, values='probability', index=['gbi'], aggfunc=[sum,len]).fillna(0)\n",
    "        max_ks = perc_goods = perc_bads = cum_perc_bads = cum_perc_goods = 0\n",
    "        for i in range(len(pivot_elements_df)):\n",
    "            perc_goods =  (pivot_elements_df.iloc[i]['len'] - pivot_elements_df.iloc[i]['sum']) / tot_goods\n",
    "            perc_bads = pivot_elements_df.iloc[i]['sum']/ tot_bads\n",
    "            cum_perc_goods += perc_goods\n",
    "            cum_perc_bads += perc_bads\n",
    "            A = cum_perc_bads-cum_perc_goods\n",
    "            if abs(A['probability']) > max_ks:\n",
    "                max_ks = abs(A['probability'])\n",
    "    except:\n",
    "        max_ks = 0\n",
    "    return max_ks\n",
    "\n",
    "\n",
    "KS_score = KS(y,pred_dev)\n",
    "print (\"KS DEVELOPMENT=\", KS_score) "
   ]
  },
  {
   "cell_type": "code",
   "execution_count": 138,
   "metadata": {},
   "outputs": [
    {
     "name": "stdout",
     "output_type": "stream",
     "text": [
      "STEP 5: SUBMITTING THE RESULTS...\n"
     ]
    }
   ],
   "source": [
    "print (\"STEP 5: SUBMITTING THE RESULTS...\")\n",
    "import requests\n",
    "from requests.auth import HTTPBasicAuth\n",
    "dfo['pred'] = pred_oot\n",
    "dfo_tosend = dfo[list(['id','pred'])]\n",
    "dfo_tosend=dfo_tosend.sort_values(by='id')\n",
    "#change at every iteration to save all results separately\n",
    "i=38\n",
    "filename = \"patricia_llull\"+str(i)+\".csv\"\n",
    "dfo_tosend.to_csv(filename, sep=',')\n",
    "\n",
    "url = 'http://mfalonso.pythonanywhere.com/api/v1.0/uploadpredictions'"
   ]
  },
  {
   "cell_type": "code",
   "execution_count": 139,
   "metadata": {},
   "outputs": [
    {
     "name": "stdout",
     "output_type": "stream",
     "text": [
      "RESULT SUBMISSION:  KS2 = 0.389047033706; GINI = 0.514623517777; GRADE = 9.219\n"
     ]
    }
   ],
   "source": [
    "# remove the # below to submit\n",
    "files = {'file': (filename, open(filename, 'rb'))}\n",
    "rsub = requests.post(url, files=files, auth=HTTPBasicAuth('pati.llull', '*********'))\n",
    "\n",
    "resp_str = str(rsub.text)\n",
    "print (\"RESULT SUBMISSION: \", resp_str)"
   ]
  },
  {
   "cell_type": "markdown",
   "metadata": {},
   "source": [
    "## Chi-square\n",
    "\n",
    "Looking at the plot, we can see some variables matter more. We will try to see if the model is improved by using the recommended features. The 'group' variable seems to matter.\n"
   ]
  },
  {
   "cell_type": "code",
   "execution_count": 37,
   "metadata": {},
   "outputs": [
    {
     "data": {
      "image/png": "[encoded data removed]",
      "text/plain": [
       "<Figure size 720x720 with 1 Axes>"
      ]
     },
     "metadata": {
      "needs_background": "light"
     },
     "output_type": "display_data"
    },
    {
     "name": "stdout",
     "output_type": "stream",
     "text": [
      "ChiSquared Threshold 0.06164674638718406\n"
     ]
    }
   ],
   "source": [
    "from sklearn.feature_selection import SelectKBest, chi2\n",
    "from operator import itemgetter\n",
    "from collections import defaultdict\n",
    "\n",
    "chi2_selector = SelectKBest(score_func=chi2).fit(df.drop(['ob_target', 'ib_var_12', 'id'],axis=1), df['ob_target'])\n",
    "\n",
    "\n",
    "# Get the indices sorted by most important to least important\n",
    "indices = np.argsort(chi2_selector.scores_)[::-1]\n",
    "\n",
    "chi2_features = defaultdict(float)\n",
    "for i in range(len(df.drop(['ob_target', 'ib_var_12', 'id'],axis=1).columns)):\n",
    "    chi2_features[df.drop(['ob_target', 'ib_var_12', 'id'],axis=1).columns[indices[i]]] += chi2_selector.scores_[indices[i]]\n",
    "    \n",
    "items = sorted(chi2_features.items(), key=itemgetter(1), reverse=True)\n",
    "keys, values = list(zip(*items))\n",
    "\n",
    "\n",
    "plt.figure(figsize=(10,10))\n",
    "plt.yticks(list(range(len(keys))), keys, rotation=0, fontsize=10)\n",
    "plt.barh(list(range(len(keys))), values, color='r', align='center')\n",
    "chi2_th = pd.Series(list(chi2_features.values())).quantile(0.25)*4\n",
    "plt.axvline(chi2_th, color='blue')\n",
    "plt.gca().invert_yaxis()\n",
    "\n",
    "plt.show()\n",
    "\n",
    "print(\"ChiSquared Threshold\", chi2_th)"
   ]
  },
  {
   "cell_type": "code",
   "execution_count": 45,
   "metadata": {},
   "outputs": [
    {
     "name": "stdout",
     "output_type": "stream",
     "text": [
      "Features to remove = dict_keys(['ib_var_17', 'if_var_76', 'ico_var_52', 'ico_var_54', 'icn_var_22_2', 'ib_var_7', 'icn_var_22', 'if_var_80', 'ib_var_6', 'ico_var_48', 'ico_var_40', 'ico_var_35', 'ico_var_29', 'if_var_75', 'ico_var_38', 'if_var_77', 'ib_var_19', 'ico_var_44', 'ico_var_64', 'if_var_73', 'ico_var_58', 'icn_var_23_1', 'ico_var_57', 'icn_var_23_2', 'ico_var_49', 'ico_var_46', 'ico_var_34', 'ico_var_42', 'ico_var_31', 'ico_var_60', 'ico_var_47', 'ico_var_43', 'ico_var_26', 'ico_var_51', 'ico_var_39', 'ib_var_13', 'if_var_66', 'ico_var_32', 'ico_var_25'])\n"
     ]
    }
   ],
   "source": [
    "chi2_features_to_remove = dict(filter(lambda x: x[1] <= chi2_th, chi2_features.items())).keys()\n",
    "print(\"Features to remove = {}\".format(chi2_features_to_remove))"
   ]
  },
  {
   "cell_type": "code",
   "execution_count": 46,
   "metadata": {},
   "outputs": [],
   "source": [
    "selected_features =[feature for feature in df.columns if 'ib_var_12' not in feature and 'id' not in feature and 'target' not in feature and feature not in chi2_features_to_remove]"
   ]
  },
  {
   "cell_type": "code",
   "execution_count": 111,
   "metadata": {},
   "outputs": [],
   "source": [
    "X= df[selected_features]\n",
    "y = df['ob_target']\n",
    "Xo = dfo[selected_features]\n",
    "\n",
    "clf = RandomForestClassifier(max_depth = 30, max_features = 'log2', n_estimators = 1000, criterion = 'gini', class_weight='balanced', random_state = 0)\n",
    "fitted_model = clf.fit(X, y)\n",
    "pred_dev = fitted_model.predict_proba(X)[:,1]\n",
    "pred_oot = fitted_model.predict_proba(Xo)[:,1]"
   ]
  },
  {
   "cell_type": "code",
   "execution_count": 112,
   "metadata": {},
   "outputs": [
    {
     "name": "stdout",
     "output_type": "stream",
     "text": [
      "STEP 4: ASSESSING THE MODEL...\n",
      "GINI DEVELOPMENT= 1.0\n",
      "KS DEVELOPMENT= 0.9999999999999992\n"
     ]
    }
   ],
   "source": [
    "print (\"STEP 4: ASSESSING THE MODEL...\")\n",
    "# CALCULATING GINI PERFORMANCE ON DEVELOPMENT SAMPLE\n",
    "from sklearn.metrics import roc_auc_score\n",
    "gini_score = 2*roc_auc_score(y, pred_dev)-1\n",
    "print (\"GINI DEVELOPMENT=\", gini_score)\n",
    "\n",
    "def KS(b,a):  \n",
    "    \"\"\"Function that received two parameters; first: a binary variable representing 0=good and 1=bad, \n",
    "    and then a second variable with the prediction of the first variable, the second variable can be continuous, \n",
    "    integer or binary - continuous is better. Finally, the function returns the KS Statistics of the two lists.\"\"\"\n",
    "    try:\n",
    "        tot_bads=1.0*sum(b)\n",
    "        tot_goods=1.0*(len(b)-tot_bads)\n",
    "        elements = zip(*[a,b])\n",
    "        elements = sorted(elements,key= lambda x: x[0])\n",
    "        elements_df = pd.DataFrame({'probability': b,'gbi': a})\n",
    "        pivot_elements_df = pd.pivot_table(elements_df, values='probability', index=['gbi'], aggfunc=[sum,len]).fillna(0)\n",
    "        max_ks = perc_goods = perc_bads = cum_perc_bads = cum_perc_goods = 0\n",
    "        for i in range(len(pivot_elements_df)):\n",
    "            perc_goods =  (pivot_elements_df.iloc[i]['len'] - pivot_elements_df.iloc[i]['sum']) / tot_goods\n",
    "            perc_bads = pivot_elements_df.iloc[i]['sum']/ tot_bads\n",
    "            cum_perc_goods += perc_goods\n",
    "            cum_perc_bads += perc_bads\n",
    "            A = cum_perc_bads-cum_perc_goods\n",
    "            if abs(A['probability']) > max_ks:\n",
    "                max_ks = abs(A['probability'])\n",
    "    except:\n",
    "        max_ks = 0\n",
    "    return max_ks\n",
    "\n",
    "\n",
    "KS_score = KS(y,pred_dev)\n",
    "print (\"KS DEVELOPMENT=\", KS_score) "
   ]
  },
  {
   "cell_type": "code",
   "execution_count": 113,
   "metadata": {},
   "outputs": [
    {
     "name": "stdout",
     "output_type": "stream",
     "text": [
      "STEP 5: SUBMITTING THE RESULTS...\n"
     ]
    }
   ],
   "source": [
    "print (\"STEP 5: SUBMITTING THE RESULTS...\")\n",
    "import requests\n",
    "from requests.auth import HTTPBasicAuth\n",
    "dfo['pred'] = pred_oot\n",
    "dfo_tosend = dfo[list(['id','pred'])]\n",
    "dfo_tosend=dfo_tosend.sort_values(by='id')\n",
    "i=56\n",
    "filename = \"patricia_llull\"+str(i)+\".csv\"\n",
    "dfo_tosend.to_csv(filename, sep=',')\n",
    "\n",
    "url = 'http://mfalonso.pythonanywhere.com/api/v1.0/uploadpredictions'"
   ]
  },
  {
   "cell_type": "code",
   "execution_count": 116,
   "metadata": {},
   "outputs": [
    {
     "name": "stdout",
     "output_type": "stream",
     "text": [
      "RESULT SUBMISSION:  KS2 = 0.398849573471; GINI = 0.538567824102; GRADE = 9.451\n"
     ]
    }
   ],
   "source": [
    "files = {'file': (filename, open(filename, 'rb'))}\n",
    "rsub = requests.post(url, files=files, auth=HTTPBasicAuth('pati.llull', '*********'))\n",
    "\n",
    "resp_str = str(rsub.text)\n",
    "print (\"RESULT SUBMISSION: \", resp_str)"
   ]
  },
  {
   "cell_type": "markdown",
   "metadata": {},
   "source": [
    "## Final Model\n",
    "\n",
    "We select the Random Forest with Chi-square selection of features for two reasons:\n",
    "- it is less random than simply selecting the 'overall importance of values' with get_features_importances\n",
    "- it yields better results."
   ]
  }
 ],
 "metadata": {
  "kernelspec": {
   "display_name": "Python 3",
   "language": "python",
   "name": "python3"
  },
  "language_info": {
   "codemirror_mode": {
    "name": "ipython",
    "version": 3
   },
   "file_extension": ".py",
   "mimetype": "text/x-python",
   "name": "python",
   "nbconvert_exporter": "python",
   "pygments_lexer": "ipython3",
   "version": "3.7.4"
  }
 },
 "nbformat": 4,
 "nbformat_minor": 2
}
